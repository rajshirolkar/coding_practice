{
 "cells": [
  {
   "cell_type": "markdown",
   "metadata": {},
   "source": [
    "1. Two Sum: \n",
    "   \n",
    "   Given an array of integers `nums` and an integer `target`, return indices of the two numbers such that they add up to `target`. You may assume that each input would have exactly one solution, and you may not use the same element twice."
   ]
  },
  {
   "cell_type": "code",
   "execution_count": 1,
   "metadata": {},
   "outputs": [],
   "source": [
    "def twoSum(nums, target):\n",
    "    num_dict = {}\n",
    "    for i, num in enumerate(nums):\n",
    "        if target - num in num_dict:\n",
    "            return [num_dict[target - num], i]\n",
    "        else:\n",
    "            num_dict[num] = i"
   ]
  },
  {
   "cell_type": "markdown",
   "metadata": {},
   "source": [
    "In this example, we use a dictionary to store the indices of each number as we iterate through the list. This allows us to quickly check if a complement exists for each number by checking if `target - num` is in the dictionary."
   ]
  },
  {
   "cell_type": "markdown",
   "metadata": {},
   "source": [
    "2. Longest Substring Without Repeating Characters: \n",
    "   Given a string s, find the length of the longest substring without repeating characters."
   ]
  },
  {
   "cell_type": "code",
   "execution_count": 2,
   "metadata": {},
   "outputs": [],
   "source": [
    "def lengthOfLongestSubstring(s):\n",
    "    char_dict = {}\n",
    "    start = 0\n",
    "    max_len = 0\n",
    "\n",
    "    for i, char in enumerate(s):\n",
    "        if char in char_dict and start <= char_dict[char]:\n",
    "            start = char_dict[char] + 1\n",
    "        else:\n",
    "            max_len = max(max_len, i - start + 1)\n",
    "\n",
    "        char_dict[char] = i\n",
    "\n",
    "    return max_len"
   ]
  },
  {
   "cell_type": "markdown",
   "metadata": {},
   "source": [
    "In this example, we use a dictionary to store the most recent index of each character as we iterate through the string. This allows us to quickly update our starting index when we encounter a repeating character."
   ]
  },
  {
   "cell_type": "markdown",
   "metadata": {},
   "source": [
    "3. Group Anagrams: \n",
    "   Given an array of strings strs, group the anagrams together. You can return the answer in any order.\n"
   ]
  },
  {
   "cell_type": "code",
   "execution_count": 3,
   "metadata": {},
   "outputs": [],
   "source": [
    "def groupAnagrams(strs):\n",
    "    anagram_dict = {}\n",
    "\n",
    "    for s in strs:\n",
    "        sorted_s = ''.join(sorted(s))\n",
    "        if sorted_s not in anagram_dict:\n",
    "            anagram_dict[sorted_s] = [s]\n",
    "        else:\n",
    "            anagram_dict[sorted_s].append(s)\n",
    "\n",
    "    return list(anagram_dict.values())"
   ]
  },
  {
   "cell_type": "markdown",
   "metadata": {},
   "source": [
    "In this example, we use a dictionary to group strings by their sorted form. This allows us to quickly identify which strings are anagrams of each other."
   ]
  },
  {
   "cell_type": "markdown",
   "metadata": {},
   "source": [
    "4. Valid Sudoku: \n",
    "    Determine if a 9x9 Sudoku board is valid. Only the filled cells need to be validated according to the following rules:\n",
    "    - Each row must contain the digits 1-9 without repetition.\n",
    "    - Each column must contain the digits 1-9 without repetition.\n",
    "    - Each of the nine 3x3 sub-boxes of the grid must contain the digits 1-9 without repetition."
   ]
  },
  {
   "cell_type": "code",
   "execution_count": 4,
   "metadata": {},
   "outputs": [],
   "source": [
    "def isValidSudoku(board):\n",
    "    rows = [{} for i in range(9)]\n",
    "    columns = [{} for i in range(9)]\n",
    "    boxes = [{} for i in range(9)]\n",
    "\n",
    "    for i in range(9):\n",
    "        for j in range(9):\n",
    "            num = board[i][j]\n",
    "            if num != '.':\n",
    "                num = int(num)\n",
    "                box_index = (i // 3) * 3 + j // 3\n",
    "\n",
    "                rows[i][num] = rows[i].get(num, 0) + 1\n",
    "                columns[j][num] = columns[j].get(num, 0) + 1\n",
    "                boxes[box_index][num] = boxes[box_index].get(num, 0) + 1\n",
    "\n",
    "                if rows[i][num] > 1 or columns[j][num] > 1 or boxes[box_index][num] > 1:\n",
    "                    return False\n",
    "\n",
    "    return True"
   ]
  },
  {
   "cell_type": "markdown",
   "metadata": {},
   "source": [
    "In this example, we use dictionaries to keep track of the frequency of each number in each row, column and box. This allows us to quickly check if any number appears more than once."
   ]
  },
  {
   "cell_type": "markdown",
   "metadata": {},
   "source": [
    "5. Word Pattern: \n",
    "   Given a `pattern` and a string `s`, find if `s` follows the same pattern. Here follow means a full match, such that there is a bijection between a letter in `pattern` and a non-empty word in `s`."
   ]
  },
  {
   "cell_type": "code",
   "execution_count": 5,
   "metadata": {},
   "outputs": [],
   "source": [
    "def wordPattern(pattern, s):\n",
    "    word_dict = {}\n",
    "    words = s.split()\n",
    "\n",
    "    if len(pattern) != len(words):\n",
    "        return False\n",
    "\n",
    "    for char, word in zip(pattern, words):\n",
    "        if char not in word_dict:\n",
    "            if word in word_dict.values():\n",
    "                return False\n",
    "            else:\n",
    "                word_dict[char] = word\n",
    "        else:\n",
    "            if word_dict[char] != word:\n",
    "                return False\n",
    "\n",
    "    return True"
   ]
  },
  {
   "cell_type": "markdown",
   "metadata": {},
   "source": [
    "In this example, we use a dictionary to map characters from pattern to words from s. This allows us to quickly check if each character maps to its corresponding word."
   ]
  },
  {
   "cell_type": "code",
   "execution_count": 1,
   "metadata": {},
   "outputs": [
    {
     "ename": "ModuleNotFoundError",
     "evalue": "No module named 'requests'",
     "output_type": "error",
     "traceback": [
      "\u001b[0;31m---------------------------------------------------------------------------\u001b[0m",
      "\u001b[0;31mModuleNotFoundError\u001b[0m                       Traceback (most recent call last)",
      "\u001b[1;32m/Users/rajshirolkar/Documents/coding_practice/python_practice/problems_notebook.ipynb Cell 16\u001b[0m line \u001b[0;36m1\n\u001b[0;32m----> <a href='vscode-notebook-cell:/Users/rajshirolkar/Documents/coding_practice/python_practice/problems_notebook.ipynb#X21sZmlsZQ%3D%3D?line=0'>1</a>\u001b[0m \u001b[39mimport\u001b[39;00m \u001b[39mrequests\u001b[39;00m\n\u001b[1;32m      <a href='vscode-notebook-cell:/Users/rajshirolkar/Documents/coding_practice/python_practice/problems_notebook.ipynb#X21sZmlsZQ%3D%3D?line=2'>3</a>\u001b[0m \u001b[39mdef\u001b[39;00m \u001b[39mget_best_food_outlet\u001b[39m(city, votes):\n\u001b[1;32m      <a href='vscode-notebook-cell:/Users/rajshirolkar/Documents/coding_practice/python_practice/problems_notebook.ipynb#X21sZmlsZQ%3D%3D?line=3'>4</a>\u001b[0m     \u001b[39m# Make a request to the API\u001b[39;00m\n\u001b[1;32m      <a href='vscode-notebook-cell:/Users/rajshirolkar/Documents/coding_practice/python_practice/problems_notebook.ipynb#X21sZmlsZQ%3D%3D?line=4'>5</a>\u001b[0m     response \u001b[39m=\u001b[39m requests\u001b[39m.\u001b[39mget(\u001b[39m\"\u001b[39m\u001b[39mhttps://jsonmock.hackerrank.com/api/food_outlets\u001b[39m\u001b[39m\"\u001b[39m)\n",
      "\u001b[0;31mModuleNotFoundError\u001b[0m: No module named 'requests'"
     ]
    }
   ],
   "source": [
    "import requests\n",
    "\n",
    "def get_best_food_outlet(city, votes):\n",
    "    # Make a request to the API\n",
    "    response = requests.get(\"https://jsonmock.hackerrank.com/api/food_outlets\")\n",
    "    data = response.json()[\"data\"]\n",
    "\n",
    "    # Filter by city and votes\n",
    "    filtered_outlets = [outlet for outlet in data if outlet[\"city\"] == city and outlet[\"user_rating\"][\"votes\"] >= votes]\n",
    "\n",
    "    # If no outlets match the criteria, return None\n",
    "    if not filtered_outlets:\n",
    "        return None\n",
    "\n",
    "    # Sort the outlets by rating and votes (in case of a tie)\n",
    "    best_outlet = max(filtered_outlets, key=lambda x: (x[\"user_rating\"][\"average_rating\"], x[\"user_rating\"][\"votes\"]))\n",
    "\n",
    "    return best_outlet\n",
    "\n",
    "city_name = \"Seattle\"\n",
    "min_votes = 1000\n",
    "result = get_best_food_outlet(city_name, min_votes)\n",
    "print(result)"
   ]
  },
  {
   "cell_type": "code",
   "execution_count": 9,
   "metadata": {},
   "outputs": [
    {
     "name": "stdout",
     "output_type": "stream",
     "text": [
      "one 2\n",
      "2 eht fo eno\n"
     ]
    }
   ],
   "source": [
    "import re\n",
    "\n",
    "numWordsRegex = r\"one|two|three|four|five|six|seven|eight|nine|1|2|3|4|5|6|7|8|9\"\n",
    "line = \"one of the 2\"\n",
    "x = re.findall(numWordsRegex, line)\n",
    "print(x[0], x[-1])\n",
    "print(line[::-1])"
   ]
  }
 ],
 "metadata": {
  "kernelspec": {
   "display_name": "Python 3.11.0 64-bit",
   "language": "python",
   "name": "python3"
  },
  "language_info": {
   "codemirror_mode": {
    "name": "ipython",
    "version": 3
   },
   "file_extension": ".py",
   "mimetype": "text/x-python",
   "name": "python",
   "nbconvert_exporter": "python",
   "pygments_lexer": "ipython3",
   "version": "3.11.0"
  },
  "orig_nbformat": 4,
  "vscode": {
   "interpreter": {
    "hash": "1a1af0ee75eeea9e2e1ee996c87e7a2b11a0bebd85af04bb136d915cefc0abce"
   }
  }
 },
 "nbformat": 4,
 "nbformat_minor": 2
}
